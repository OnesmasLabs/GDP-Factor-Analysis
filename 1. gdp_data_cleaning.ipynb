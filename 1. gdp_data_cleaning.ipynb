{
 "cells": [
  {
   "cell_type": "markdown",
   "metadata": {},
   "source": [
    "## Understanding and Cleaning data\n",
    "### Problem Statement:\n",
    "Investingating Factor Affecting Gross Domestic Product (GDP)"
   ]
  },
  {
   "cell_type": "code",
   "execution_count": 152,
   "metadata": {},
   "outputs": [],
   "source": [
    "import pandas as pd\n",
    "import matplotlib.pyplot as pylt\n",
    "import numpy as np\n",
    "%matplotlib inline"
   ]
  },
  {
   "cell_type": "markdown",
   "metadata": {},
   "source": [
    "### Import dataset"
   ]
  },
  {
   "cell_type": "code",
   "execution_count": 153,
   "metadata": {},
   "outputs": [
    {
     "data": {
      "text/html": [
       "<div>\n",
       "<style scoped>\n",
       "    .dataframe tbody tr th:only-of-type {\n",
       "        vertical-align: middle;\n",
       "    }\n",
       "\n",
       "    .dataframe tbody tr th {\n",
       "        vertical-align: top;\n",
       "    }\n",
       "\n",
       "    .dataframe thead th {\n",
       "        text-align: right;\n",
       "    }\n",
       "</style>\n",
       "<table border=\"1\" class=\"dataframe\">\n",
       "  <thead>\n",
       "    <tr style=\"text-align: right;\">\n",
       "      <th></th>\n",
       "      <th>Country Name</th>\n",
       "      <th>Country Code</th>\n",
       "      <th>year</th>\n",
       "      <th>Access to electricity (% of pop)</th>\n",
       "      <th>Agricultural land (% of land area)</th>\n",
       "      <th>Agricultural raw materials exports (% )</th>\n",
       "      <th>Agricultural raw materials imports (%)</th>\n",
       "      <th>Agriculture value added (% of GDP)</th>\n",
       "      <th>Arable land (% of land area)</th>\n",
       "      <th>Average precipitation in depth (mm per year)</th>\n",
       "      <th>CPIA gender equality rating (1=low to 6=high)</th>\n",
       "      <th>Death rate, crude (per 1,000 people)</th>\n",
       "      <th>Employment in agriculture (% of total employment)</th>\n",
       "      <th>Fertilizer consumption (% of fertilizer production)</th>\n",
       "      <th>Literacy rate, adult total (% of people ages 15 and above)</th>\n",
       "      <th>Livestock production index</th>\n",
       "      <th>Mineral rents (% of GDP)</th>\n",
       "      <th>Population</th>\n",
       "      <th>Rural population (% of total population)</th>\n",
       "      <th>GDP per capita (US$)</th>\n",
       "    </tr>\n",
       "  </thead>\n",
       "  <tbody>\n",
       "    <tr>\n",
       "      <th>0</th>\n",
       "      <td>Afghanistan</td>\n",
       "      <td>AFG</td>\n",
       "      <td>1960</td>\n",
       "      <td>NaN</td>\n",
       "      <td>NaN</td>\n",
       "      <td>NaN</td>\n",
       "      <td>NaN</td>\n",
       "      <td>NaN</td>\n",
       "      <td>NaN</td>\n",
       "      <td>NaN</td>\n",
       "      <td>NaN</td>\n",
       "      <td>32.219</td>\n",
       "      <td>NaN</td>\n",
       "      <td>NaN</td>\n",
       "      <td>NaN</td>\n",
       "      <td>NaN</td>\n",
       "      <td>NaN</td>\n",
       "      <td>8996973.0</td>\n",
       "      <td>91.599</td>\n",
       "      <td>59.773194</td>\n",
       "    </tr>\n",
       "    <tr>\n",
       "      <th>1</th>\n",
       "      <td>Afghanistan</td>\n",
       "      <td>AFG</td>\n",
       "      <td>1961</td>\n",
       "      <td>NaN</td>\n",
       "      <td>57.745918</td>\n",
       "      <td>NaN</td>\n",
       "      <td>NaN</td>\n",
       "      <td>NaN</td>\n",
       "      <td>11.717673</td>\n",
       "      <td>NaN</td>\n",
       "      <td>NaN</td>\n",
       "      <td>31.649</td>\n",
       "      <td>NaN</td>\n",
       "      <td>NaN</td>\n",
       "      <td>NaN</td>\n",
       "      <td>43.37</td>\n",
       "      <td>NaN</td>\n",
       "      <td>9169410.0</td>\n",
       "      <td>91.316</td>\n",
       "      <td>59.860874</td>\n",
       "    </tr>\n",
       "    <tr>\n",
       "      <th>2</th>\n",
       "      <td>Afghanistan</td>\n",
       "      <td>AFG</td>\n",
       "      <td>1962</td>\n",
       "      <td>NaN</td>\n",
       "      <td>57.837821</td>\n",
       "      <td>53.755852</td>\n",
       "      <td>0.966617</td>\n",
       "      <td>NaN</td>\n",
       "      <td>11.794259</td>\n",
       "      <td>327.0</td>\n",
       "      <td>NaN</td>\n",
       "      <td>31.093</td>\n",
       "      <td>NaN</td>\n",
       "      <td>NaN</td>\n",
       "      <td>NaN</td>\n",
       "      <td>43.99</td>\n",
       "      <td>NaN</td>\n",
       "      <td>9351441.0</td>\n",
       "      <td>91.024</td>\n",
       "      <td>58.458015</td>\n",
       "    </tr>\n",
       "    <tr>\n",
       "      <th>3</th>\n",
       "      <td>Afghanistan</td>\n",
       "      <td>AFG</td>\n",
       "      <td>1963</td>\n",
       "      <td>NaN</td>\n",
       "      <td>57.914407</td>\n",
       "      <td>61.100605</td>\n",
       "      <td>1.394438</td>\n",
       "      <td>NaN</td>\n",
       "      <td>11.870845</td>\n",
       "      <td>NaN</td>\n",
       "      <td>NaN</td>\n",
       "      <td>30.551</td>\n",
       "      <td>NaN</td>\n",
       "      <td>NaN</td>\n",
       "      <td>NaN</td>\n",
       "      <td>47.03</td>\n",
       "      <td>NaN</td>\n",
       "      <td>9543205.0</td>\n",
       "      <td>90.724</td>\n",
       "      <td>78.706388</td>\n",
       "    </tr>\n",
       "    <tr>\n",
       "      <th>4</th>\n",
       "      <td>Afghanistan</td>\n",
       "      <td>AFG</td>\n",
       "      <td>1964</td>\n",
       "      <td>NaN</td>\n",
       "      <td>58.010906</td>\n",
       "      <td>54.437183</td>\n",
       "      <td>1.498234</td>\n",
       "      <td>NaN</td>\n",
       "      <td>11.947431</td>\n",
       "      <td>NaN</td>\n",
       "      <td>NaN</td>\n",
       "      <td>30.022</td>\n",
       "      <td>NaN</td>\n",
       "      <td>NaN</td>\n",
       "      <td>NaN</td>\n",
       "      <td>48.56</td>\n",
       "      <td>NaN</td>\n",
       "      <td>9744781.0</td>\n",
       "      <td>90.414</td>\n",
       "      <td>82.095231</td>\n",
       "    </tr>\n",
       "  </tbody>\n",
       "</table>\n",
       "</div>"
      ],
      "text/plain": [
       "  Country Name Country Code  year  Access to electricity (% of pop)  \\\n",
       "0  Afghanistan          AFG  1960                               NaN   \n",
       "1  Afghanistan          AFG  1961                               NaN   \n",
       "2  Afghanistan          AFG  1962                               NaN   \n",
       "3  Afghanistan          AFG  1963                               NaN   \n",
       "4  Afghanistan          AFG  1964                               NaN   \n",
       "\n",
       "   Agricultural land (% of land area)  \\\n",
       "0                                 NaN   \n",
       "1                           57.745918   \n",
       "2                           57.837821   \n",
       "3                           57.914407   \n",
       "4                           58.010906   \n",
       "\n",
       "   Agricultural raw materials exports (% )  \\\n",
       "0                                      NaN   \n",
       "1                                      NaN   \n",
       "2                                53.755852   \n",
       "3                                61.100605   \n",
       "4                                54.437183   \n",
       "\n",
       "   Agricultural raw materials imports (%)  Agriculture value added (% of GDP)  \\\n",
       "0                                     NaN                                 NaN   \n",
       "1                                     NaN                                 NaN   \n",
       "2                                0.966617                                 NaN   \n",
       "3                                1.394438                                 NaN   \n",
       "4                                1.498234                                 NaN   \n",
       "\n",
       "   Arable land (% of land area)  Average precipitation in depth (mm per year)  \\\n",
       "0                           NaN                                           NaN   \n",
       "1                     11.717673                                           NaN   \n",
       "2                     11.794259                                         327.0   \n",
       "3                     11.870845                                           NaN   \n",
       "4                     11.947431                                           NaN   \n",
       "\n",
       "   CPIA gender equality rating (1=low to 6=high)  \\\n",
       "0                                            NaN   \n",
       "1                                            NaN   \n",
       "2                                            NaN   \n",
       "3                                            NaN   \n",
       "4                                            NaN   \n",
       "\n",
       "   Death rate, crude (per 1,000 people)  \\\n",
       "0                                32.219   \n",
       "1                                31.649   \n",
       "2                                31.093   \n",
       "3                                30.551   \n",
       "4                                30.022   \n",
       "\n",
       "   Employment in agriculture (% of total employment)  \\\n",
       "0                                                NaN   \n",
       "1                                                NaN   \n",
       "2                                                NaN   \n",
       "3                                                NaN   \n",
       "4                                                NaN   \n",
       "\n",
       "   Fertilizer consumption (% of fertilizer production)  \\\n",
       "0                                                NaN     \n",
       "1                                                NaN     \n",
       "2                                                NaN     \n",
       "3                                                NaN     \n",
       "4                                                NaN     \n",
       "\n",
       "   Literacy rate, adult total (% of people ages 15 and above)  \\\n",
       "0                                                NaN            \n",
       "1                                                NaN            \n",
       "2                                                NaN            \n",
       "3                                                NaN            \n",
       "4                                                NaN            \n",
       "\n",
       "   Livestock production index  Mineral rents (% of GDP)  Population  \\\n",
       "0                         NaN                       NaN   8996973.0   \n",
       "1                       43.37                       NaN   9169410.0   \n",
       "2                       43.99                       NaN   9351441.0   \n",
       "3                       47.03                       NaN   9543205.0   \n",
       "4                       48.56                       NaN   9744781.0   \n",
       "\n",
       "   Rural population (% of total population)  GDP per capita (US$)  \n",
       "0                                    91.599             59.773194  \n",
       "1                                    91.316             59.860874  \n",
       "2                                    91.024             58.458015  \n",
       "3                                    90.724             78.706388  \n",
       "4                                    90.414             82.095231  "
      ]
     },
     "execution_count": 153,
     "metadata": {},
     "output_type": "execute_result"
    }
   ],
   "source": [
    "data = pd.read_csv(\"Drivers of GDP per Capita.csv\")\n",
    "data.head()"
   ]
  },
  {
   "cell_type": "code",
   "execution_count": 154,
   "metadata": {},
   "outputs": [
    {
     "data": {
      "text/html": [
       "<div>\n",
       "<style scoped>\n",
       "    .dataframe tbody tr th:only-of-type {\n",
       "        vertical-align: middle;\n",
       "    }\n",
       "\n",
       "    .dataframe tbody tr th {\n",
       "        vertical-align: top;\n",
       "    }\n",
       "\n",
       "    .dataframe thead th {\n",
       "        text-align: right;\n",
       "    }\n",
       "</style>\n",
       "<table border=\"1\" class=\"dataframe\">\n",
       "  <thead>\n",
       "    <tr style=\"text-align: right;\">\n",
       "      <th></th>\n",
       "      <th>Country Code</th>\n",
       "      <th>Country Name</th>\n",
       "    </tr>\n",
       "  </thead>\n",
       "  <tbody>\n",
       "    <tr>\n",
       "      <th>0</th>\n",
       "      <td>CSS</td>\n",
       "      <td>Caribbean small states</td>\n",
       "    </tr>\n",
       "    <tr>\n",
       "      <th>1</th>\n",
       "      <td>EAP</td>\n",
       "      <td>East Asia &amp; Pacific (excluding high income)</td>\n",
       "    </tr>\n",
       "    <tr>\n",
       "      <th>2</th>\n",
       "      <td>EMU</td>\n",
       "      <td>Euro area</td>\n",
       "    </tr>\n",
       "    <tr>\n",
       "      <th>3</th>\n",
       "      <td>EUU</td>\n",
       "      <td>European Union</td>\n",
       "    </tr>\n",
       "    <tr>\n",
       "      <th>4</th>\n",
       "      <td>FCS</td>\n",
       "      <td>Fragile and conflict affected situations</td>\n",
       "    </tr>\n",
       "  </tbody>\n",
       "</table>\n",
       "</div>"
      ],
      "text/plain": [
       "  Country Code                                 Country Name\n",
       "0          CSS                       Caribbean small states\n",
       "1          EAP  East Asia & Pacific (excluding high income)\n",
       "2          EMU                                    Euro area\n",
       "3          EUU                               European Union\n",
       "4          FCS     Fragile and conflict affected situations"
      ]
     },
     "execution_count": 154,
     "metadata": {},
     "output_type": "execute_result"
    }
   ],
   "source": [
    "# genarilized columns\n",
    "gen_row = pd.read_csv(\"Generalized Rows.csv\")\n",
    "gen_row.head()"
   ]
  },
  {
   "cell_type": "code",
   "execution_count": 155,
   "metadata": {},
   "outputs": [
    {
     "data": {
      "text/html": [
       "<div>\n",
       "<style scoped>\n",
       "    .dataframe tbody tr th:only-of-type {\n",
       "        vertical-align: middle;\n",
       "    }\n",
       "\n",
       "    .dataframe tbody tr th {\n",
       "        vertical-align: top;\n",
       "    }\n",
       "\n",
       "    .dataframe thead th {\n",
       "        text-align: right;\n",
       "    }\n",
       "</style>\n",
       "<table border=\"1\" class=\"dataframe\">\n",
       "  <thead>\n",
       "    <tr style=\"text-align: right;\">\n",
       "      <th></th>\n",
       "      <th>Country Code</th>\n",
       "      <th>Region</th>\n",
       "    </tr>\n",
       "  </thead>\n",
       "  <tbody>\n",
       "    <tr>\n",
       "      <th>0</th>\n",
       "      <td>AFG</td>\n",
       "      <td>Asia</td>\n",
       "    </tr>\n",
       "    <tr>\n",
       "      <th>1</th>\n",
       "      <td>ALB</td>\n",
       "      <td>Europe</td>\n",
       "    </tr>\n",
       "    <tr>\n",
       "      <th>2</th>\n",
       "      <td>DZA</td>\n",
       "      <td>Africa</td>\n",
       "    </tr>\n",
       "    <tr>\n",
       "      <th>3</th>\n",
       "      <td>AND</td>\n",
       "      <td>Europe</td>\n",
       "    </tr>\n",
       "    <tr>\n",
       "      <th>4</th>\n",
       "      <td>AGO</td>\n",
       "      <td>Africa</td>\n",
       "    </tr>\n",
       "  </tbody>\n",
       "</table>\n",
       "</div>"
      ],
      "text/plain": [
       "  Country Code  Region\n",
       "0          AFG    Asia\n",
       "1          ALB  Europe\n",
       "2          DZA  Africa\n",
       "3          AND  Europe\n",
       "4          AGO  Africa"
      ]
     },
     "execution_count": 155,
     "metadata": {},
     "output_type": "execute_result"
    }
   ],
   "source": [
    "regions_df = pd.read_csv('Region_dataset.csv')\n",
    "regions_df.head()"
   ]
  },
  {
   "cell_type": "markdown",
   "metadata": {},
   "source": [
    "### Informative Summary"
   ]
  },
  {
   "cell_type": "code",
   "execution_count": 156,
   "metadata": {},
   "outputs": [
    {
     "data": {
      "text/plain": [
       "(16043, 20)"
      ]
     },
     "execution_count": 156,
     "metadata": {},
     "output_type": "execute_result"
    }
   ],
   "source": [
    "# data shape\n",
    "data.shape"
   ]
  },
  {
   "cell_type": "code",
   "execution_count": 157,
   "metadata": {},
   "outputs": [
    {
     "name": "stdout",
     "output_type": "stream",
     "text": [
      "<class 'pandas.core.frame.DataFrame'>\n",
      "RangeIndex: 16043 entries, 0 to 16042\n",
      "Data columns (total 20 columns):\n",
      " #   Column                                                      Non-Null Count  Dtype  \n",
      "---  ------                                                      --------------  -----  \n",
      " 0   Country Name                                                16043 non-null  object \n",
      " 1   Country Code                                                16043 non-null  object \n",
      " 2   year                                                        16043 non-null  int64  \n",
      " 3   Access to electricity (% of pop)                            6153 non-null   float64\n",
      " 4   Agricultural land (% of land area)                          12999 non-null  float64\n",
      " 5   Agricultural raw materials exports (% )                     8911 non-null   float64\n",
      " 6   Agricultural raw materials imports (%)                      8939 non-null   float64\n",
      " 7   Agriculture value added (% of GDP)                          9670 non-null   float64\n",
      " 8   Arable land (% of land area)                                12862 non-null  float64\n",
      " 9   Average precipitation in depth (mm per year)                2068 non-null   float64\n",
      " 10  CPIA gender equality rating (1=low to 6=high)               1723 non-null   float64\n",
      " 11  Death rate, crude (per 1,000 people)                        14433 non-null  float64\n",
      " 12  Employment in agriculture (% of total employment)           6960 non-null   float64\n",
      " 13  Fertilizer consumption (% of fertilizer production)         1810 non-null   float64\n",
      " 14  Literacy rate, adult total (% of people ages 15 and above)  2460 non-null   float64\n",
      " 15  Livestock production index                                  12595 non-null  float64\n",
      " 16  Mineral rents (% of GDP)                                    10788 non-null  float64\n",
      " 17  Population                                                  15611 non-null  float64\n",
      " 18  Rural population (% of total population)                    15532 non-null  float64\n",
      " 19  GDP per capita (US$)                                        12309 non-null  float64\n",
      "dtypes: float64(17), int64(1), object(2)\n",
      "memory usage: 2.4+ MB\n"
     ]
    }
   ],
   "source": [
    "data.info()"
   ]
  },
  {
   "cell_type": "markdown",
   "metadata": {},
   "source": [
    "## Data Cleaning"
   ]
  },
  {
   "cell_type": "markdown",
   "metadata": {},
   "source": [
    "### Filter your dataset such that you return a dataframe that has zero null values for the response variable `GDP per capita (US$)`"
   ]
  },
  {
   "cell_type": "code",
   "execution_count": 158,
   "metadata": {},
   "outputs": [
    {
     "data": {
      "text/plain": [
       "0"
      ]
     },
     "execution_count": 158,
     "metadata": {},
     "output_type": "execute_result"
    }
   ],
   "source": [
    "filtered_df = data.dropna(subset= [\"GDP per capita (US$)\"])\n",
    "\n",
    "# Check if all null value have been droped\n",
    "filtered_df[\"GDP per capita (US$)\"].isnull().sum()"
   ]
  },
  {
   "cell_type": "markdown",
   "metadata": {},
   "source": [
    "### Remove rows where 50 % or more predictor variables have null values.\n"
   ]
  },
  {
   "cell_type": "code",
   "execution_count": 159,
   "metadata": {},
   "outputs": [
    {
     "data": {
      "text/plain": [
       "(9435, 20)"
      ]
     },
     "execution_count": 159,
     "metadata": {},
     "output_type": "execute_result"
    }
   ],
   "source": [
    "response_var = [\"Country Name\", \"Country Code\", \"year\", \"GDP per capita (US$)\"]\n",
    "# predictor variables\n",
    "predictor_var = [col for col in filtered_df.columns if col not in response_var]\n",
    "# calculate percentage for null value\n",
    "percentage_null = filtered_df[predictor_var].isnull().sum(axis=1) / len(predictor_var)\n",
    "# filter row with half or more null value\n",
    "filtered_df = filtered_df[percentage_null < 0.5]\n",
    "filtered_df.shape"
   ]
  },
  {
   "cell_type": "markdown",
   "metadata": {},
   "source": [
    "### Remove four predictors that has the least non-null values"
   ]
  },
  {
   "cell_type": "code",
   "execution_count": 160,
   "metadata": {},
   "outputs": [],
   "source": [
    "# least predictor variable with the least non-null value\n",
    "predictor_least_non_null = filtered_df[predictor_var].count().nsmallest(4).index\n",
    "\n",
    "# drop the variables\n",
    "filtered_df = filtered_df.drop(columns=predictor_least_non_null)"
   ]
  },
  {
   "cell_type": "code",
   "execution_count": 161,
   "metadata": {},
   "outputs": [
    {
     "data": {
      "text/plain": [
       "(9435, 16)"
      ]
     },
     "execution_count": 161,
     "metadata": {},
     "output_type": "execute_result"
    }
   ],
   "source": [
    "filtered_df.shape"
   ]
  },
  {
   "cell_type": "markdown",
   "metadata": {},
   "source": [
    "### Within the dataset, there are rows that are generalized to region or continent\n",
    "Remove rows that correspond to the data in this CSV file: gen_rows"
   ]
  },
  {
   "cell_type": "code",
   "execution_count": 162,
   "metadata": {},
   "outputs": [
    {
     "name": "stdout",
     "output_type": "stream",
     "text": [
      "<class 'pandas.core.frame.DataFrame'>\n",
      "Index: 8628 entries, 2 to 16040\n",
      "Data columns (total 16 columns):\n",
      " #   Column                                             Non-Null Count  Dtype  \n",
      "---  ------                                             --------------  -----  \n",
      " 0   Country Name                                       8628 non-null   object \n",
      " 1   Country Code                                       8628 non-null   object \n",
      " 2   year                                               8628 non-null   int64  \n",
      " 3   Access to electricity (% of pop)                   5055 non-null   float64\n",
      " 4   Agricultural land (% of land area)                 8227 non-null   float64\n",
      " 5   Agricultural raw materials exports (% )            7333 non-null   float64\n",
      " 6   Agricultural raw materials imports (%)             7341 non-null   float64\n",
      " 7   Agriculture value added (% of GDP)                 7500 non-null   float64\n",
      " 8   Arable land (% of land area)                       8224 non-null   float64\n",
      " 9   Death rate, crude (per 1,000 people)               8580 non-null   float64\n",
      " 10  Employment in agriculture (% of total employment)  5495 non-null   float64\n",
      " 11  Livestock production index                         8183 non-null   float64\n",
      " 12  Mineral rents (% of GDP)                           8239 non-null   float64\n",
      " 13  Population                                         8628 non-null   float64\n",
      " 14  Rural population (% of total population)           8628 non-null   float64\n",
      " 15  GDP per capita (US$)                               8628 non-null   float64\n",
      "dtypes: float64(13), int64(1), object(2)\n",
      "memory usage: 1.1+ MB\n"
     ]
    }
   ],
   "source": [
    "# Identify the rows in the main dataset that match the generalized regions or continents\n",
    "gen_country = gen_row[\"Country Name\"].unique()\n",
    "rows_to_remove = filtered_df[filtered_df['Country Name'].isin(gen_country)].index\n",
    "\n",
    "# Remove those rows from the main dataset\n",
    "filtered_df = filtered_df.drop(rows_to_remove)\n",
    "filtered_df.info()"
   ]
  },
  {
   "cell_type": "markdown",
   "metadata": {},
   "source": [
    "### Most data released before 1990 have lot of null value"
   ]
  },
  {
   "cell_type": "code",
   "execution_count": 163,
   "metadata": {},
   "outputs": [
    {
     "name": "stdout",
     "output_type": "stream",
     "text": [
      "<class 'pandas.core.frame.DataFrame'>\n",
      "Index: 5909 entries, 42 to 16040\n",
      "Data columns (total 16 columns):\n",
      " #   Column                                             Non-Null Count  Dtype         \n",
      "---  ------                                             --------------  -----         \n",
      " 0   Country Name                                       5909 non-null   object        \n",
      " 1   Country Code                                       5909 non-null   object        \n",
      " 2   year                                               5909 non-null   datetime64[ns]\n",
      " 3   Access to electricity (% of pop)                   5055 non-null   float64       \n",
      " 4   Agricultural land (% of land area)                 5514 non-null   float64       \n",
      " 5   Agricultural raw materials exports (% )            4826 non-null   float64       \n",
      " 6   Agricultural raw materials imports (%)             4818 non-null   float64       \n",
      " 7   Agriculture value added (% of GDP)                 5526 non-null   float64       \n",
      " 8   Arable land (% of land area)                       5511 non-null   float64       \n",
      " 9   Death rate, crude (per 1,000 people)               5865 non-null   float64       \n",
      " 10  Employment in agriculture (% of total employment)  5495 non-null   float64       \n",
      " 11  Livestock production index                         5464 non-null   float64       \n",
      " 12  Mineral rents (% of GDP)                           5909 non-null   float64       \n",
      " 13  Population                                         5909 non-null   float64       \n",
      " 14  Rural population (% of total population)           5909 non-null   float64       \n",
      " 15  GDP per capita (US$)                               5909 non-null   float64       \n",
      "dtypes: datetime64[ns](1), float64(13), object(2)\n",
      "memory usage: 784.8+ KB\n"
     ]
    }
   ],
   "source": [
    "# Convert 'year' column to datetime type\n",
    "filtered_df['year'] = pd.to_datetime(filtered_df['year'], format='%Y')\n",
    "\n",
    "# drop data from 1990 and below\n",
    "filtered_df = filtered_df[filtered_df[\"year\"] >= '1990']\n",
    "filtered_df.info()"
   ]
  },
  {
   "cell_type": "code",
   "execution_count": 164,
   "metadata": {},
   "outputs": [
    {
     "name": "stdout",
     "output_type": "stream",
     "text": [
      "<class 'pandas.core.frame.DataFrame'>\n",
      "Index: 5909 entries, 42 to 16040\n",
      "Data columns (total 16 columns):\n",
      " #   Column                                             Non-Null Count  Dtype         \n",
      "---  ------                                             --------------  -----         \n",
      " 0   Country Name                                       5909 non-null   object        \n",
      " 1   Country Code                                       5909 non-null   object        \n",
      " 2   year                                               5909 non-null   datetime64[ns]\n",
      " 3   Access to electricity (% of pop)                   5055 non-null   float64       \n",
      " 4   Agricultural land (% of land area)                 5514 non-null   float64       \n",
      " 5   Agricultural raw materials exports (% )            4826 non-null   float64       \n",
      " 6   Agricultural raw materials imports (%)             4818 non-null   float64       \n",
      " 7   Agriculture value added (% of GDP)                 5526 non-null   float64       \n",
      " 8   Arable land (% of land area)                       5511 non-null   float64       \n",
      " 9   Death rate, crude (per 1,000 people)               5865 non-null   float64       \n",
      " 10  Employment in agriculture (% of total employment)  5495 non-null   float64       \n",
      " 11  Livestock production index                         5464 non-null   float64       \n",
      " 12  Mineral rents (% of GDP)                           5909 non-null   float64       \n",
      " 13  Population                                         5909 non-null   float64       \n",
      " 14  Rural population (% of total population)           5909 non-null   float64       \n",
      " 15  GDP per capita (US$)                               5909 non-null   float64       \n",
      "dtypes: datetime64[ns](1), float64(13), object(2)\n",
      "memory usage: 784.8+ KB\n"
     ]
    }
   ],
   "source": [
    "filtered_df.info()"
   ]
  },
  {
   "cell_type": "markdown",
   "metadata": {},
   "source": [
    "## Imputing Missing Values"
   ]
  },
  {
   "cell_type": "markdown",
   "metadata": {},
   "source": [
    "Create helper function `calculate_null_percentage`  for calculating the percentage of null values for that predictor variable with respect to the total total rows for that particular country."
   ]
  },
  {
   "cell_type": "code",
   "execution_count": 165,
   "metadata": {},
   "outputs": [
    {
     "name": "stdout",
     "output_type": "stream",
     "text": [
      "<class 'pandas.core.frame.DataFrame'>\n",
      "Index: 5909 entries, 42 to 16040\n",
      "Data columns (total 16 columns):\n",
      " #   Column                                             Non-Null Count  Dtype         \n",
      "---  ------                                             --------------  -----         \n",
      " 0   Country Name                                       5909 non-null   object        \n",
      " 1   Country Code                                       5909 non-null   object        \n",
      " 2   year                                               5909 non-null   datetime64[ns]\n",
      " 3   Access to electricity (% of pop)                   5055 non-null   float64       \n",
      " 4   Agricultural land (% of land area)                 5514 non-null   float64       \n",
      " 5   Agricultural raw materials exports (% )            4826 non-null   float64       \n",
      " 6   Agricultural raw materials imports (%)             4818 non-null   float64       \n",
      " 7   Agriculture value added (% of GDP)                 5526 non-null   float64       \n",
      " 8   Arable land (% of land area)                       5511 non-null   float64       \n",
      " 9   Death rate, crude (per 1,000 people)               5865 non-null   float64       \n",
      " 10  Employment in agriculture (% of total employment)  5495 non-null   float64       \n",
      " 11  Livestock production index                         5464 non-null   float64       \n",
      " 12  Mineral rents (% of GDP)                           5909 non-null   float64       \n",
      " 13  Population                                         5909 non-null   float64       \n",
      " 14  Rural population (% of total population)           5909 non-null   float64       \n",
      " 15  GDP per capita (US$)                               5909 non-null   float64       \n",
      "dtypes: datetime64[ns](1), float64(13), object(2)\n",
      "memory usage: 784.8+ KB\n"
     ]
    }
   ],
   "source": [
    "# test data for our function\n",
    "test_data = filtered_df.copy()\n",
    "test_data.info()"
   ]
  },
  {
   "cell_type": "code",
   "execution_count": 166,
   "metadata": {},
   "outputs": [
    {
     "name": "stdout",
     "output_type": "stream",
     "text": [
      "6.896551724137931\n"
     ]
    }
   ],
   "source": [
    "def calculate_null_percentage(df, country_name, predictor_column):\n",
    "    \"\"\"\n",
    "    Calculate the percentage of null values for a specific predictor variable\n",
    "    with respect to the total rows for a particular country.\n",
    "\n",
    "    Parameters:\n",
    "    - df: DataFrame containing the data\n",
    "    - country_name: Name of the country\n",
    "    - predictor_column: Name of the predictor column\n",
    "\n",
    "    Returns:\n",
    "    - Percentage of null values for the predictor variable with respect to the total rows for the country\n",
    "    \"\"\"\n",
    "    # Filter the DataFrame for the specified country\n",
    "    country_df = df[df['Country Name'] == country_name]\n",
    "    \n",
    "    # Count the total number of rows for the country\n",
    "    total_rows = len(country_df)\n",
    "    \n",
    "    # Count the number of null values for the predictor column\n",
    "    null_count = country_df[predictor_column].isnull().sum()\n",
    "    \n",
    "    # Calculate the percentage of null values\n",
    "    null_percentage = (null_count / total_rows) * 100\n",
    "    \n",
    "    return null_percentage\n",
    "\n",
    "# Example:\n",
    "percentage_null = calculate_null_percentage(test_data, 'Zimbabwe', 'Access to electricity (% of pop)')\n",
    "print(percentage_null)"
   ]
  },
  {
   "cell_type": "markdown",
   "metadata": {},
   "source": [
    "### Automation of imputing null value"
   ]
  },
  {
   "cell_type": "code",
   "execution_count": 167,
   "metadata": {},
   "outputs": [],
   "source": [
    "def impute_missing_values(df, columns_to_impute):\n",
    "    \"\"\"\n",
    "    Impute missing values in the specified columns with the mean value.\n",
    "\n",
    "    Parameters:\n",
    "    - df: DataFrame containing the data\n",
    "    - columns_to_impute: List of column names to be imputed\n",
    "\n",
    "    Returns:\n",
    "    - DataFrame with null values filled\n",
    "    \"\"\"\n",
    "    for column in columns_to_impute:\n",
    "        # Calculate the mean value of the column\n",
    "        mean_value = df[column].mean()\n",
    "        \n",
    "        # Fill null values with the mean value\n",
    "        df[column].fillna(mean_value, inplace=True)\n",
    "    \n",
    "    return df"
   ]
  },
  {
   "cell_type": "code",
   "execution_count": 168,
   "metadata": {},
   "outputs": [
    {
     "name": "stdout",
     "output_type": "stream",
     "text": [
      "<class 'pandas.core.frame.DataFrame'>\n",
      "Index: 5909 entries, 42 to 16040\n",
      "Data columns (total 16 columns):\n",
      " #   Column                                             Non-Null Count  Dtype         \n",
      "---  ------                                             --------------  -----         \n",
      " 0   Country Name                                       5909 non-null   object        \n",
      " 1   Country Code                                       5909 non-null   object        \n",
      " 2   year                                               5909 non-null   datetime64[ns]\n",
      " 3   Access to electricity (% of pop)                   5909 non-null   float64       \n",
      " 4   Agricultural land (% of land area)                 5909 non-null   float64       \n",
      " 5   Agricultural raw materials exports (% )            5909 non-null   float64       \n",
      " 6   Agricultural raw materials imports (%)             5909 non-null   float64       \n",
      " 7   Agriculture value added (% of GDP)                 5909 non-null   float64       \n",
      " 8   Arable land (% of land area)                       5909 non-null   float64       \n",
      " 9   Death rate, crude (per 1,000 people)               5909 non-null   float64       \n",
      " 10  Employment in agriculture (% of total employment)  5909 non-null   float64       \n",
      " 11  Livestock production index                         5909 non-null   float64       \n",
      " 12  Mineral rents (% of GDP)                           5909 non-null   float64       \n",
      " 13  Population                                         5909 non-null   float64       \n",
      " 14  Rural population (% of total population)           5909 non-null   float64       \n",
      " 15  GDP per capita (US$)                               5909 non-null   float64       \n",
      "dtypes: datetime64[ns](1), float64(13), object(2)\n",
      "memory usage: 784.8+ KB\n"
     ]
    }
   ],
   "source": [
    "# column with missing value\n",
    "columns_to_impute = ['Access to electricity (% of pop)', 'Agricultural land (% of land area)', 'Agricultural raw materials exports (% )', 'Agricultural raw materials imports (%)', 'Agriculture value added (% of GDP)', 'Arable land (% of land area)', 'Death rate, crude (per 1,000 people)',  'Employment in agriculture (% of total employment)', 'Livestock production index']\n",
    "# input missing value with the mean\n",
    "impute_missing_values(test_data, columns_to_impute).info()"
   ]
  },
  {
   "cell_type": "markdown",
   "metadata": {},
   "source": [
    "We need to perform a mean imputation for missing values per country\n",
    "for columns that have less than 10% of missing values. Write a\n",
    "function that takes the dataframe and predictor variables as input\n",
    "parameters, uses the function in `calculate_null_percentage` above to calculate the percentage\n",
    "of missing values for each predictor variable for each country. The\n",
    "function should return a dictionary with countries as keys and a list of\n",
    "predictors to be imputed for each country. "
   ]
  },
  {
   "cell_type": "code",
   "execution_count": 169,
   "metadata": {},
   "outputs": [],
   "source": [
    "def values_to_change(df,predictors):\n",
    "    \"\"\"\n",
    "    Return dictonary with the country and name of the column to impute missing value\n",
    "    \n",
    "    Parameters:\n",
    "        - df: Dataframe\n",
    "        - predictors: (list) name of the column to impute\n",
    "    Return:\n",
    "        to_impute: (dict) country and name of the column to impute\n",
    "    \n",
    "    \"\"\"\n",
    "    to_impute = {}\n",
    "    for country in df['Country Name'].unique():\n",
    "        col=[]\n",
    "        for p in predictors:\n",
    "            null_perc = calculate_null_percentage(df,country,p)\n",
    "            if null_perc<10:\n",
    "                col.append(p)\n",
    "        to_impute[country] = col\n",
    "    return to_impute"
   ]
  },
  {
   "cell_type": "code",
   "execution_count": 170,
   "metadata": {},
   "outputs": [
    {
     "data": {
      "text/plain": [
       "['Access to electricity (% of pop)',\n",
       " 'Agricultural land (% of land area)',\n",
       " 'Agricultural raw materials exports (% )',\n",
       " 'Agricultural raw materials imports (%)',\n",
       " 'Agriculture value added (% of GDP)',\n",
       " 'Arable land (% of land area)',\n",
       " 'Death rate, crude (per 1,000 people)',\n",
       " 'Employment in agriculture (% of total employment)',\n",
       " 'Livestock production index']"
      ]
     },
     "execution_count": 170,
     "metadata": {},
     "output_type": "execute_result"
    }
   ],
   "source": [
    "values_to_change(test_data, columns_to_impute)['Algeria']"
   ]
  },
  {
   "cell_type": "code",
   "execution_count": 171,
   "metadata": {},
   "outputs": [],
   "source": [
    "imputed_df = pd.DataFrame()\n",
    "country = values_to_change(filtered_df, columns_to_impute)\n",
    "for c in country.keys():\n",
    "    country_data = filtered_df[filtered_df['Country Name'] == c].reindex()\n",
    "    returned_df = impute_missing_values(country_data, country[c])\n",
    "    imputed_df = pd.concat([imputed_df, returned_df], ignore_index=True)"
   ]
  },
  {
   "cell_type": "code",
   "execution_count": 172,
   "metadata": {},
   "outputs": [],
   "source": [
    "cleaned_df = imputed_df.dropna()"
   ]
  },
  {
   "cell_type": "code",
   "execution_count": 173,
   "metadata": {},
   "outputs": [
    {
     "name": "stdout",
     "output_type": "stream",
     "text": [
      "<class 'pandas.core.frame.DataFrame'>\n",
      "Index: 3801 entries, 6 to 5908\n",
      "Data columns (total 16 columns):\n",
      " #   Column                                             Non-Null Count  Dtype         \n",
      "---  ------                                             --------------  -----         \n",
      " 0   Country Name                                       3801 non-null   object        \n",
      " 1   Country Code                                       3801 non-null   object        \n",
      " 2   year                                               3801 non-null   datetime64[ns]\n",
      " 3   Access to electricity (% of pop)                   3801 non-null   float64       \n",
      " 4   Agricultural land (% of land area)                 3801 non-null   float64       \n",
      " 5   Agricultural raw materials exports (% )            3801 non-null   float64       \n",
      " 6   Agricultural raw materials imports (%)             3801 non-null   float64       \n",
      " 7   Agriculture value added (% of GDP)                 3801 non-null   float64       \n",
      " 8   Arable land (% of land area)                       3801 non-null   float64       \n",
      " 9   Death rate, crude (per 1,000 people)               3801 non-null   float64       \n",
      " 10  Employment in agriculture (% of total employment)  3801 non-null   float64       \n",
      " 11  Livestock production index                         3801 non-null   float64       \n",
      " 12  Mineral rents (% of GDP)                           3801 non-null   float64       \n",
      " 13  Population                                         3801 non-null   float64       \n",
      " 14  Rural population (% of total population)           3801 non-null   float64       \n",
      " 15  GDP per capita (US$)                               3801 non-null   float64       \n",
      "dtypes: datetime64[ns](1), float64(13), object(2)\n",
      "memory usage: 504.8+ KB\n"
     ]
    }
   ],
   "source": [
    "# drop null value\n",
    "cleaned_df.info()"
   ]
  },
  {
   "cell_type": "code",
   "execution_count": 174,
   "metadata": {},
   "outputs": [],
   "source": [
    "# Merge the datasets on the 'Country Code' column\n",
    "merged_df = pd.merge(cleaned_df, regions_df, on='Country Code', how='left')\n",
    "\n",
    "# reorder the columns to make 'Region' the second column\n",
    "merged_df = merged_df[['Country Name', 'Country Code', 'Region'] + [col for col in merged_df.columns if col not in ['Country Name', 'Country Code', 'Region']]]"
   ]
  },
  {
   "cell_type": "code",
   "execution_count": 175,
   "metadata": {},
   "outputs": [
    {
     "name": "stdout",
     "output_type": "stream",
     "text": [
      "<class 'pandas.core.frame.DataFrame'>\n",
      "RangeIndex: 3801 entries, 0 to 3800\n",
      "Data columns (total 17 columns):\n",
      " #   Column                                             Non-Null Count  Dtype         \n",
      "---  ------                                             --------------  -----         \n",
      " 0   Country Name                                       3801 non-null   object        \n",
      " 1   Country Code                                       3801 non-null   object        \n",
      " 2   Region                                             3801 non-null   object        \n",
      " 3   year                                               3801 non-null   datetime64[ns]\n",
      " 4   Access to electricity (% of pop)                   3801 non-null   float64       \n",
      " 5   Agricultural land (% of land area)                 3801 non-null   float64       \n",
      " 6   Agricultural raw materials exports (% )            3801 non-null   float64       \n",
      " 7   Agricultural raw materials imports (%)             3801 non-null   float64       \n",
      " 8   Agriculture value added (% of GDP)                 3801 non-null   float64       \n",
      " 9   Arable land (% of land area)                       3801 non-null   float64       \n",
      " 10  Death rate, crude (per 1,000 people)               3801 non-null   float64       \n",
      " 11  Employment in agriculture (% of total employment)  3801 non-null   float64       \n",
      " 12  Livestock production index                         3801 non-null   float64       \n",
      " 13  Mineral rents (% of GDP)                           3801 non-null   float64       \n",
      " 14  Population                                         3801 non-null   float64       \n",
      " 15  Rural population (% of total population)           3801 non-null   float64       \n",
      " 16  GDP per capita (US$)                               3801 non-null   float64       \n",
      "dtypes: datetime64[ns](1), float64(13), object(3)\n",
      "memory usage: 504.9+ KB\n"
     ]
    }
   ],
   "source": [
    "cleaned_df = merged_df.copy()\n",
    "cleaned_df.info()"
   ]
  }
 ],
 "metadata": {
  "kernelspec": {
   "display_name": "base",
   "language": "python",
   "name": "python3"
  },
  "language_info": {
   "codemirror_mode": {
    "name": "ipython",
    "version": 3
   },
   "file_extension": ".py",
   "mimetype": "text/x-python",
   "name": "python",
   "nbconvert_exporter": "python",
   "pygments_lexer": "ipython3",
   "version": "3.11.5"
  }
 },
 "nbformat": 4,
 "nbformat_minor": 2
}
